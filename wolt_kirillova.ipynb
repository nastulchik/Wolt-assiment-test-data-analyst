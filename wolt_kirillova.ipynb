{
 "cells": [
  {
   "cell_type": "code",
   "execution_count": 1,
   "id": "4a34298b",
   "metadata": {},
   "outputs": [],
   "source": [
    "import pandas as pd\n",
    "import numpy as np\n",
    "import seaborn as sns\n",
    "import matplotlib.pyplot as plt\n",
    "sns.set()\n",
    "\n",
    "%matplotlib inline\n",
    "\n"
   ]
  },
  {
   "cell_type": "code",
   "execution_count": 4,
   "id": "8241adeb",
   "metadata": {},
   "outputs": [],
   "source": [
    "data = pd.read_csv('dataset_for_analyst_assignment_20201120.csv')"
   ]
  },
  {
   "cell_type": "code",
   "execution_count": 5,
   "id": "a4ea0301",
   "metadata": {},
   "outputs": [],
   "source": [
    "# Making a copy of the data so that we keep the original data safe\n",
    "wolt_data = data.copy()"
   ]
  },
  {
   "cell_type": "code",
   "execution_count": 10,
   "id": "528109d1",
   "metadata": {},
   "outputs": [
    {
     "data": {
      "text/plain": [
       "(21983, 30)"
      ]
     },
     "execution_count": 10,
     "metadata": {},
     "output_type": "execute_result"
    }
   ],
   "source": [
    "#Return number of rows and columns\n",
    "wolt_data.shape"
   ]
  },
  {
   "cell_type": "code",
   "execution_count": 11,
   "id": "0eaf0fd3",
   "metadata": {},
   "outputs": [
    {
     "data": {
      "text/html": [
       "<div>\n",
       "<style scoped>\n",
       "    .dataframe tbody tr th:only-of-type {\n",
       "        vertical-align: middle;\n",
       "    }\n",
       "\n",
       "    .dataframe tbody tr th {\n",
       "        vertical-align: top;\n",
       "    }\n",
       "\n",
       "    .dataframe thead th {\n",
       "        text-align: right;\n",
       "    }\n",
       "</style>\n",
       "<table border=\"1\" class=\"dataframe\">\n",
       "  <thead>\n",
       "    <tr style=\"text-align: right;\">\n",
       "      <th></th>\n",
       "      <th>REGISTRATION_DATE</th>\n",
       "      <th>REGISTRATION_COUNTRY</th>\n",
       "      <th>PURCHASE_COUNT</th>\n",
       "      <th>PURCHASE_COUNT_DELIVERY</th>\n",
       "      <th>PURCHASE_COUNT_TAKEAWAY</th>\n",
       "      <th>FIRST_PURCHASE_DAY</th>\n",
       "      <th>LAST_PURCHASE_DAY</th>\n",
       "      <th>USER_ID</th>\n",
       "      <th>BREAKFAST_PURCHASES</th>\n",
       "      <th>LUNCH_PURCHASES</th>\n",
       "      <th>...</th>\n",
       "      <th>WEB_PURCHASES</th>\n",
       "      <th>ANDROID_PURCHASES</th>\n",
       "      <th>PREFERRED_RESTAURANT_TYPES</th>\n",
       "      <th>USER_HAS_VALID_PAYMENT_METHOD</th>\n",
       "      <th>MOST_COMMON_HOUR_OF_THE_DAY_TO_PURCHASE</th>\n",
       "      <th>MOST_COMMON_WEEKDAY_TO_PURCHASE</th>\n",
       "      <th>AVG_DAYS_BETWEEN_PURCHASES</th>\n",
       "      <th>MEDIAN_DAYS_BETWEEN_PURCHASES</th>\n",
       "      <th>AVERAGE_DELIVERY_DISTANCE_KMS</th>\n",
       "      <th>PURCHASE_COUNT_BY_STORE_TYPE</th>\n",
       "    </tr>\n",
       "  </thead>\n",
       "  <tbody>\n",
       "    <tr>\n",
       "      <th>0</th>\n",
       "      <td>2019-09-01 00:00:00.000</td>\n",
       "      <td>DNK</td>\n",
       "      <td>0</td>\n",
       "      <td>NaN</td>\n",
       "      <td>NaN</td>\n",
       "      <td>NaN</td>\n",
       "      <td>NaN</td>\n",
       "      <td>1</td>\n",
       "      <td>NaN</td>\n",
       "      <td>NaN</td>\n",
       "      <td>...</td>\n",
       "      <td>NaN</td>\n",
       "      <td>NaN</td>\n",
       "      <td>NaN</td>\n",
       "      <td>False</td>\n",
       "      <td>NaN</td>\n",
       "      <td>NaN</td>\n",
       "      <td>NaN</td>\n",
       "      <td>NaN</td>\n",
       "      <td>NaN</td>\n",
       "      <td>{\\n  \"General merchandise\": 0,\\n  \"Grocery\": 0...</td>\n",
       "    </tr>\n",
       "    <tr>\n",
       "      <th>1</th>\n",
       "      <td>2019-09-01 00:00:00.000</td>\n",
       "      <td>FIN</td>\n",
       "      <td>1</td>\n",
       "      <td>1.0</td>\n",
       "      <td>0.0</td>\n",
       "      <td>2020-09-02 00:00:00.000</td>\n",
       "      <td>2020-09-02 00:00:00.000</td>\n",
       "      <td>2</td>\n",
       "      <td>0.0</td>\n",
       "      <td>1.0</td>\n",
       "      <td>...</td>\n",
       "      <td>0.0</td>\n",
       "      <td>1.0</td>\n",
       "      <td>NaN</td>\n",
       "      <td>False</td>\n",
       "      <td>23.0</td>\n",
       "      <td>2.0</td>\n",
       "      <td>NaN</td>\n",
       "      <td>NaN</td>\n",
       "      <td>6.853</td>\n",
       "      <td>{\\n  \"General merchandise\": 0,\\n  \"Grocery\": 0...</td>\n",
       "    </tr>\n",
       "    <tr>\n",
       "      <th>2</th>\n",
       "      <td>2019-09-01 00:00:00.000</td>\n",
       "      <td>DNK</td>\n",
       "      <td>19</td>\n",
       "      <td>19.0</td>\n",
       "      <td>0.0</td>\n",
       "      <td>2019-12-10 00:00:00.000</td>\n",
       "      <td>2020-05-25 00:00:00.000</td>\n",
       "      <td>3</td>\n",
       "      <td>0.0</td>\n",
       "      <td>4.0</td>\n",
       "      <td>...</td>\n",
       "      <td>19.0</td>\n",
       "      <td>0.0</td>\n",
       "      <td>NaN</td>\n",
       "      <td>True</td>\n",
       "      <td>21.0</td>\n",
       "      <td>2.0</td>\n",
       "      <td>9.0</td>\n",
       "      <td>3.0</td>\n",
       "      <td>6.559</td>\n",
       "      <td>{\\n  \"General merchandise\": 1,\\n  \"Grocery\": 9...</td>\n",
       "    </tr>\n",
       "    <tr>\n",
       "      <th>3</th>\n",
       "      <td>2019-09-01 00:00:00.000</td>\n",
       "      <td>FIN</td>\n",
       "      <td>0</td>\n",
       "      <td>NaN</td>\n",
       "      <td>NaN</td>\n",
       "      <td>NaN</td>\n",
       "      <td>NaN</td>\n",
       "      <td>4</td>\n",
       "      <td>NaN</td>\n",
       "      <td>NaN</td>\n",
       "      <td>...</td>\n",
       "      <td>NaN</td>\n",
       "      <td>NaN</td>\n",
       "      <td>NaN</td>\n",
       "      <td>False</td>\n",
       "      <td>NaN</td>\n",
       "      <td>NaN</td>\n",
       "      <td>NaN</td>\n",
       "      <td>NaN</td>\n",
       "      <td>NaN</td>\n",
       "      <td>{\\n  \"General merchandise\": 0,\\n  \"Grocery\": 0...</td>\n",
       "    </tr>\n",
       "    <tr>\n",
       "      <th>4</th>\n",
       "      <td>2019-09-01 00:00:00.000</td>\n",
       "      <td>GRC</td>\n",
       "      <td>0</td>\n",
       "      <td>NaN</td>\n",
       "      <td>NaN</td>\n",
       "      <td>NaN</td>\n",
       "      <td>NaN</td>\n",
       "      <td>5</td>\n",
       "      <td>NaN</td>\n",
       "      <td>NaN</td>\n",
       "      <td>...</td>\n",
       "      <td>NaN</td>\n",
       "      <td>NaN</td>\n",
       "      <td>NaN</td>\n",
       "      <td>False</td>\n",
       "      <td>NaN</td>\n",
       "      <td>NaN</td>\n",
       "      <td>NaN</td>\n",
       "      <td>NaN</td>\n",
       "      <td>NaN</td>\n",
       "      <td>{\\n  \"General merchandise\": 0,\\n  \"Grocery\": 0...</td>\n",
       "    </tr>\n",
       "  </tbody>\n",
       "</table>\n",
       "<p>5 rows × 30 columns</p>\n",
       "</div>"
      ],
      "text/plain": [
       "         REGISTRATION_DATE REGISTRATION_COUNTRY  PURCHASE_COUNT  \\\n",
       "0  2019-09-01 00:00:00.000                  DNK               0   \n",
       "1  2019-09-01 00:00:00.000                  FIN               1   \n",
       "2  2019-09-01 00:00:00.000                  DNK              19   \n",
       "3  2019-09-01 00:00:00.000                  FIN               0   \n",
       "4  2019-09-01 00:00:00.000                  GRC               0   \n",
       "\n",
       "   PURCHASE_COUNT_DELIVERY  PURCHASE_COUNT_TAKEAWAY       FIRST_PURCHASE_DAY  \\\n",
       "0                      NaN                      NaN                      NaN   \n",
       "1                      1.0                      0.0  2020-09-02 00:00:00.000   \n",
       "2                     19.0                      0.0  2019-12-10 00:00:00.000   \n",
       "3                      NaN                      NaN                      NaN   \n",
       "4                      NaN                      NaN                      NaN   \n",
       "\n",
       "         LAST_PURCHASE_DAY  USER_ID  BREAKFAST_PURCHASES  LUNCH_PURCHASES  \\\n",
       "0                      NaN        1                  NaN              NaN   \n",
       "1  2020-09-02 00:00:00.000        2                  0.0              1.0   \n",
       "2  2020-05-25 00:00:00.000        3                  0.0              4.0   \n",
       "3                      NaN        4                  NaN              NaN   \n",
       "4                      NaN        5                  NaN              NaN   \n",
       "\n",
       "   ...  WEB_PURCHASES  ANDROID_PURCHASES  PREFERRED_RESTAURANT_TYPES  \\\n",
       "0  ...            NaN                NaN                         NaN   \n",
       "1  ...            0.0                1.0                         NaN   \n",
       "2  ...           19.0                0.0                         NaN   \n",
       "3  ...            NaN                NaN                         NaN   \n",
       "4  ...            NaN                NaN                         NaN   \n",
       "\n",
       "   USER_HAS_VALID_PAYMENT_METHOD  MOST_COMMON_HOUR_OF_THE_DAY_TO_PURCHASE  \\\n",
       "0                          False                                      NaN   \n",
       "1                          False                                     23.0   \n",
       "2                           True                                     21.0   \n",
       "3                          False                                      NaN   \n",
       "4                          False                                      NaN   \n",
       "\n",
       "   MOST_COMMON_WEEKDAY_TO_PURCHASE  AVG_DAYS_BETWEEN_PURCHASES  \\\n",
       "0                              NaN                         NaN   \n",
       "1                              2.0                         NaN   \n",
       "2                              2.0                         9.0   \n",
       "3                              NaN                         NaN   \n",
       "4                              NaN                         NaN   \n",
       "\n",
       "   MEDIAN_DAYS_BETWEEN_PURCHASES AVERAGE_DELIVERY_DISTANCE_KMS  \\\n",
       "0                            NaN                           NaN   \n",
       "1                            NaN                         6.853   \n",
       "2                            3.0                         6.559   \n",
       "3                            NaN                           NaN   \n",
       "4                            NaN                           NaN   \n",
       "\n",
       "                        PURCHASE_COUNT_BY_STORE_TYPE  \n",
       "0  {\\n  \"General merchandise\": 0,\\n  \"Grocery\": 0...  \n",
       "1  {\\n  \"General merchandise\": 0,\\n  \"Grocery\": 0...  \n",
       "2  {\\n  \"General merchandise\": 1,\\n  \"Grocery\": 9...  \n",
       "3  {\\n  \"General merchandise\": 0,\\n  \"Grocery\": 0...  \n",
       "4  {\\n  \"General merchandise\": 0,\\n  \"Grocery\": 0...  \n",
       "\n",
       "[5 rows x 30 columns]"
      ]
     },
     "execution_count": 11,
     "metadata": {},
     "output_type": "execute_result"
    }
   ],
   "source": [
    "#Return first 5 rows of the dataset\n",
    "wolt_data.head()"
   ]
  },
  {
   "cell_type": "code",
   "execution_count": 12,
   "id": "286c9f4b",
   "metadata": {
    "scrolled": false
   },
   "outputs": [
    {
     "name": "stdout",
     "output_type": "stream",
     "text": [
      "<class 'pandas.core.frame.DataFrame'>\n",
      "RangeIndex: 21983 entries, 0 to 21982\n",
      "Data columns (total 30 columns):\n",
      " #   Column                                   Non-Null Count  Dtype  \n",
      "---  ------                                   --------------  -----  \n",
      " 0   REGISTRATION_DATE                        21983 non-null  object \n",
      " 1   REGISTRATION_COUNTRY                     21983 non-null  object \n",
      " 2   PURCHASE_COUNT                           21983 non-null  int64  \n",
      " 3   PURCHASE_COUNT_DELIVERY                  12028 non-null  float64\n",
      " 4   PURCHASE_COUNT_TAKEAWAY                  12028 non-null  float64\n",
      " 5   FIRST_PURCHASE_DAY                       11964 non-null  object \n",
      " 6   LAST_PURCHASE_DAY                        12027 non-null  object \n",
      " 7   USER_ID                                  21983 non-null  int64  \n",
      " 8   BREAKFAST_PURCHASES                      12028 non-null  float64\n",
      " 9   LUNCH_PURCHASES                          12028 non-null  float64\n",
      " 10  EVENING_PURCHASES                        12028 non-null  float64\n",
      " 11  DINNER_PURCHASES                         12028 non-null  float64\n",
      " 12  LATE_NIGHT_PURCHASES                     12028 non-null  float64\n",
      " 13  TOTAL_PURCHASES_EUR                      12028 non-null  float64\n",
      " 14  DISTINCT_PURCHASE_VENUE_COUNT            12028 non-null  float64\n",
      " 15  MIN_PURCHASE_VALUE_EUR                   12028 non-null  float64\n",
      " 16  MAX_PURCHASE_VALUE_EUR                   12028 non-null  float64\n",
      " 17  AVG_PURCHASE_VALUE_EUR                   12028 non-null  float64\n",
      " 18  PREFERRED_DEVICE                         21910 non-null  object \n",
      " 19  IOS_PURCHASES                            12028 non-null  float64\n",
      " 20  WEB_PURCHASES                            12028 non-null  float64\n",
      " 21  ANDROID_PURCHASES                        12028 non-null  float64\n",
      " 22  PREFERRED_RESTAURANT_TYPES               2694 non-null   object \n",
      " 23  USER_HAS_VALID_PAYMENT_METHOD            21983 non-null  bool   \n",
      " 24  MOST_COMMON_HOUR_OF_THE_DAY_TO_PURCHASE  12028 non-null  float64\n",
      " 25  MOST_COMMON_WEEKDAY_TO_PURCHASE          12028 non-null  float64\n",
      " 26  AVG_DAYS_BETWEEN_PURCHASES               7832 non-null   float64\n",
      " 27  MEDIAN_DAYS_BETWEEN_PURCHASES            7832 non-null   float64\n",
      " 28  AVERAGE_DELIVERY_DISTANCE_KMS            12028 non-null  float64\n",
      " 29  PURCHASE_COUNT_BY_STORE_TYPE             21983 non-null  object \n",
      "dtypes: bool(1), float64(20), int64(2), object(7)\n",
      "memory usage: 4.9+ MB\n"
     ]
    }
   ],
   "source": [
    "#Return info on dataset\n",
    "wolt_data.info()"
   ]
  },
  {
   "cell_type": "markdown",
   "id": "aeafdef7",
   "metadata": {},
   "source": [
    "We notice that the dataframe date column is not a datetime type and the user_id is an integer so we will start first by changing the type of these columns so that it represents the data correctly"
   ]
  },
  {
   "cell_type": "code",
   "execution_count": 13,
   "id": "8745a972",
   "metadata": {},
   "outputs": [],
   "source": [
    "wolt_data['REGISTRATION_DATE'] = pd.to_datetime(wolt_data['REGISTRATION_DATE'])\n",
    "wolt_data['USER_ID'] = wolt_data['USER_ID'].astype(str)"
   ]
  },
  {
   "cell_type": "code",
   "execution_count": 17,
   "id": "f4ffc28b",
   "metadata": {
    "scrolled": true
   },
   "outputs": [
    {
     "data": {
      "text/plain": [
       "REGISTRATION_DATE                              0\n",
       "REGISTRATION_COUNTRY                           0\n",
       "PURCHASE_COUNT                                 0\n",
       "PURCHASE_COUNT_DELIVERY                     9955\n",
       "PURCHASE_COUNT_TAKEAWAY                     9955\n",
       "FIRST_PURCHASE_DAY                         10019\n",
       "LAST_PURCHASE_DAY                           9956\n",
       "USER_ID                                        0\n",
       "BREAKFAST_PURCHASES                         9955\n",
       "LUNCH_PURCHASES                             9955\n",
       "EVENING_PURCHASES                           9955\n",
       "DINNER_PURCHASES                            9955\n",
       "LATE_NIGHT_PURCHASES                        9955\n",
       "TOTAL_PURCHASES_EUR                         9955\n",
       "DISTINCT_PURCHASE_VENUE_COUNT               9955\n",
       "MIN_PURCHASE_VALUE_EUR                      9955\n",
       "MAX_PURCHASE_VALUE_EUR                      9955\n",
       "AVG_PURCHASE_VALUE_EUR                      9955\n",
       "PREFERRED_DEVICE                              73\n",
       "IOS_PURCHASES                               9955\n",
       "WEB_PURCHASES                               9955\n",
       "ANDROID_PURCHASES                           9955\n",
       "USER_HAS_VALID_PAYMENT_METHOD                  0\n",
       "MOST_COMMON_HOUR_OF_THE_DAY_TO_PURCHASE     9955\n",
       "MOST_COMMON_WEEKDAY_TO_PURCHASE             9955\n",
       "AVG_DAYS_BETWEEN_PURCHASES                 14151\n",
       "MEDIAN_DAYS_BETWEEN_PURCHASES              14151\n",
       "AVERAGE_DELIVERY_DISTANCE_KMS               9955\n",
       "PURCHASE_COUNT_BY_STORE_TYPE                   0\n",
       "dtype: int64"
      ]
     },
     "execution_count": 17,
     "metadata": {},
     "output_type": "execute_result"
    }
   ],
   "source": [
    "# Checking for null values and whether this would impact our analysis negatively or not  \n",
    "wolt_data.isnull().sum()"
   ]
  },
  {
   "cell_type": "code",
   "execution_count": 18,
   "id": "a346fb6e",
   "metadata": {},
   "outputs": [
    {
     "name": "stdout",
     "output_type": "stream",
     "text": [
      "List of dropped columns: \n",
      "\n"
     ]
    }
   ],
   "source": [
    "# wolt_data.count() does not include NaN values\n",
    "wolt_data2 = wolt_data[[column for column in wolt_data if wolt_data[column].count() / len(df) >= 0.3]]\n",
    "print(\"List of dropped columns:\", end=\" \")\n",
    "for c in wolt_data.columns:\n",
    "    if c not in wolt_data2.columns:\n",
    "        print(c, end=\", \")\n",
    "print('\\n')\n",
    "wolt_data=wolt_data2"
   ]
  },
  {
   "cell_type": "code",
   "execution_count": 19,
   "id": "938cbf30",
   "metadata": {},
   "outputs": [
    {
     "data": {
      "text/plain": [
       "FIN    10277\n",
       "DNK     8081\n",
       "GRC     3042\n",
       "USA       70\n",
       "GBR       54\n",
       "SWE       45\n",
       "EST       44\n",
       "DEU       39\n",
       "NOR       34\n",
       "ITA       24\n",
       "POL       23\n",
       "LTU       22\n",
       "ESP       19\n",
       "CZE       14\n",
       "HUN       11\n",
       "AUS       11\n",
       "BEL       11\n",
       "FRA       11\n",
       "NLD       10\n",
       "ISR        9\n",
       "RUS        8\n",
       "IND        7\n",
       "LVA        7\n",
       "BRA        7\n",
       "IRL        7\n",
       "CYP        7\n",
       "CAN        6\n",
       "ARE        6\n",
       "JPN        6\n",
       "QAT        6\n",
       "PRT        5\n",
       "ROU        5\n",
       "HRV        5\n",
       "AUT        5\n",
       "CHE        4\n",
       "SGP        4\n",
       "FRO        3\n",
       "SVK        3\n",
       "CHN        3\n",
       "TUR        2\n",
       "LBN        2\n",
       "JOR        2\n",
       "CHL        2\n",
       "UKR        2\n",
       "ISL        2\n",
       "COL        2\n",
       "AZE        2\n",
       "KOR        1\n",
       "PHL        1\n",
       "SAU        1\n",
       "PAK        1\n",
       "TWN        1\n",
       "GEO        1\n",
       "MEX        1\n",
       "HKG        1\n",
       "GIN        1\n",
       "KWT        1\n",
       "MLT        1\n",
       "SVN        1\n",
       "Name: REGISTRATION_COUNTRY, dtype: int64"
      ]
     },
     "execution_count": 19,
     "metadata": {},
     "output_type": "execute_result"
    }
   ],
   "source": [
    "# Checking the value counts of the REGISTRATION COUNTRY to get a quick image of which country has the most customers\n",
    "wolt_data['REGISTRATION_COUNTRY'].value_counts()"
   ]
  },
  {
   "cell_type": "code",
   "execution_count": 20,
   "id": "d8c41386",
   "metadata": {},
   "outputs": [
    {
     "data": {
      "text/plain": [
       "0    {\\n  \"General merchandise\": 0,\\n  \"Grocery\": 0...\n",
       "1    {\\n  \"General merchandise\": 0,\\n  \"Grocery\": 0...\n",
       "2    {\\n  \"General merchandise\": 1,\\n  \"Grocery\": 9...\n",
       "3    {\\n  \"General merchandise\": 0,\\n  \"Grocery\": 0...\n",
       "4    {\\n  \"General merchandise\": 0,\\n  \"Grocery\": 0...\n",
       "Name: PURCHASE_COUNT_BY_STORE_TYPE, dtype: object"
      ]
     },
     "execution_count": 20,
     "metadata": {},
     "output_type": "execute_result"
    }
   ],
   "source": [
    "# PURCHASE COUNT_BY_STORE_TYPE has very valuable information to visualise\n",
    "wolt_data['PURCHASE_COUNT_BY_STORE_TYPE'].head()"
   ]
  },
  {
   "cell_type": "markdown",
   "id": "3d65b9ad",
   "metadata": {},
   "source": [
    "Breaking down the column PURCHASE_COUNT_BY_STORE TYPE into multiple columns to get better insights of the store type of the purchased products"
   ]
  },
  {
   "cell_type": "code",
   "execution_count": 21,
   "id": "aabd5de4",
   "metadata": {},
   "outputs": [],
   "source": [
    "# Setting up empty lists to store the values of the PURCHASE_COUNT_BY_STORE\n",
    "General_merchandise = []\n",
    "Grocery = []\n",
    "Pet_supplies = []\n",
    "Restaurant = []\n",
    "Retail_store = []\n",
    "\n",
    "\n",
    "# Looping over the PURCHASE_COUNT_BY_STORE_TYPE column to extract the information and store them in new columns\n",
    "for row in wolt_data['PURCHASE_COUNT_BY_STORE_TYPE']:\n",
    "    \n",
    "    # The reason why I choose 2 digits when slicing, is because sum values have more than one digit\n",
    "    General_merchandise.append(row[27:29]) # This will get the General merchandise values\n",
    "    Grocery.append(row[43:45]) # This will get the Grocery values\n",
    "    Pet_supplies.append(row[64:66]) # This will get the Pet supplies values\n",
    "    Restaurant.append(row[83:85]) # This will get the Restaurant values\n",
    "    Retail_store.append(row[104:106]) # This will get the Retail store values"
   ]
  },
  {
   "cell_type": "code",
   "execution_count": 22,
   "id": "2a5eadec",
   "metadata": {},
   "outputs": [],
   "source": [
    "# Creating new columns to store the values of each store\n",
    "wolt_data['General_merchandise'] = General_merchandise\n",
    "wolt_data['Grocery'] = Grocery\n",
    "wolt_data['Pet_supplies'] = Pet_supplies\n",
    "wolt_data['Restaurant'] = Restaurant\n",
    "wolt_data['Retail_store'] = Retail_store"
   ]
  },
  {
   "cell_type": "code",
   "execution_count": 23,
   "id": "ef31011e",
   "metadata": {},
   "outputs": [
    {
     "name": "stdout",
     "output_type": "stream",
     "text": [
      "<class 'pandas.core.frame.DataFrame'>\n",
      "RangeIndex: 21983 entries, 0 to 21982\n",
      "Data columns (total 34 columns):\n",
      " #   Column                                   Non-Null Count  Dtype         \n",
      "---  ------                                   --------------  -----         \n",
      " 0   REGISTRATION_DATE                        21983 non-null  datetime64[ns]\n",
      " 1   REGISTRATION_COUNTRY                     21983 non-null  object        \n",
      " 2   PURCHASE_COUNT                           21983 non-null  int64         \n",
      " 3   PURCHASE_COUNT_DELIVERY                  12028 non-null  float64       \n",
      " 4   PURCHASE_COUNT_TAKEAWAY                  12028 non-null  float64       \n",
      " 5   FIRST_PURCHASE_DAY                       11964 non-null  object        \n",
      " 6   LAST_PURCHASE_DAY                        12027 non-null  object        \n",
      " 7   USER_ID                                  21983 non-null  object        \n",
      " 8   BREAKFAST_PURCHASES                      12028 non-null  float64       \n",
      " 9   LUNCH_PURCHASES                          12028 non-null  float64       \n",
      " 10  EVENING_PURCHASES                        12028 non-null  float64       \n",
      " 11  DINNER_PURCHASES                         12028 non-null  float64       \n",
      " 12  LATE_NIGHT_PURCHASES                     12028 non-null  float64       \n",
      " 13  TOTAL_PURCHASES_EUR                      12028 non-null  float64       \n",
      " 14  DISTINCT_PURCHASE_VENUE_COUNT            12028 non-null  float64       \n",
      " 15  MIN_PURCHASE_VALUE_EUR                   12028 non-null  float64       \n",
      " 16  MAX_PURCHASE_VALUE_EUR                   12028 non-null  float64       \n",
      " 17  AVG_PURCHASE_VALUE_EUR                   12028 non-null  float64       \n",
      " 18  PREFERRED_DEVICE                         21910 non-null  object        \n",
      " 19  IOS_PURCHASES                            12028 non-null  float64       \n",
      " 20  WEB_PURCHASES                            12028 non-null  float64       \n",
      " 21  ANDROID_PURCHASES                        12028 non-null  float64       \n",
      " 22  USER_HAS_VALID_PAYMENT_METHOD            21983 non-null  bool          \n",
      " 23  MOST_COMMON_HOUR_OF_THE_DAY_TO_PURCHASE  12028 non-null  float64       \n",
      " 24  MOST_COMMON_WEEKDAY_TO_PURCHASE          12028 non-null  float64       \n",
      " 25  AVG_DAYS_BETWEEN_PURCHASES               7832 non-null   float64       \n",
      " 26  MEDIAN_DAYS_BETWEEN_PURCHASES            7832 non-null   float64       \n",
      " 27  AVERAGE_DELIVERY_DISTANCE_KMS            12028 non-null  float64       \n",
      " 28  PURCHASE_COUNT_BY_STORE_TYPE             21983 non-null  object        \n",
      " 29  General_merchandise                      21983 non-null  object        \n",
      " 30  Grocery                                  21983 non-null  object        \n",
      " 31  Pet_supplies                             21983 non-null  object        \n",
      " 32  Restaurant                               21983 non-null  object        \n",
      " 33  Retail_store                             21983 non-null  object        \n",
      "dtypes: bool(1), datetime64[ns](1), float64(20), int64(1), object(11)\n",
      "memory usage: 5.6+ MB\n"
     ]
    }
   ],
   "source": [
    "# Checking the new dataframe\n",
    "wolt_data.info()"
   ]
  },
  {
   "cell_type": "code",
   "execution_count": 24,
   "id": "48a71d5d",
   "metadata": {},
   "outputs": [
    {
     "data": {
      "text/plain": [
       "Index(['General_merchandise', 'Grocery', 'Pet_supplies', 'Restaurant',\n",
       "       'Retail_store'],\n",
       "      dtype='object')"
      ]
     },
     "execution_count": 24,
     "metadata": {},
     "output_type": "execute_result"
    }
   ],
   "source": [
    "# Cheking the 5 new columns\n",
    "wolt_data.iloc[:, -5:].columns"
   ]
  },
  {
   "cell_type": "code",
   "execution_count": 25,
   "id": "c59f731f",
   "metadata": {},
   "outputs": [
    {
     "data": {
      "text/plain": [
       "0,    21599\n",
       " 0      209\n",
       " 1      173\n",
       ":         2\n",
       "Name: Pet_supplies, dtype: int64"
      ]
     },
     "execution_count": 25,
     "metadata": {},
     "output_type": "execute_result"
    }
   ],
   "source": [
    "# the Pet_supplies, Restaurant, Retail_store have the value : between them and that needs to be replaced \n",
    "# That was caused while breaking down the PURCHASE_COUNT_BY_STORE_TYPE column into multiple columns \n",
    "# We can easily extract only the numeric values and remove the :\n",
    "wolt_data['Pet_supplies'].value_counts()"
   ]
  },
  {
   "cell_type": "code",
   "execution_count": 26,
   "id": "bd99b3a1",
   "metadata": {},
   "outputs": [
    {
     "data": {
      "text/plain": [
       "0\\n    19742\n",
       "3\\n      474\n",
       ":        383\n",
       " 1       345\n",
       "4\\n      309\n",
       "5\\n      205\n",
       "6\\n      141\n",
       "7\\n      117\n",
       "8\\n       87\n",
       "9\\n       80\n",
       " 2        60\n",
       " 3        22\n",
       " 4         8\n",
       " 5         4\n",
       " 6         2\n",
       "e\"         2\n",
       " 8         1\n",
       " 7         1\n",
       "Name: Retail_store, dtype: int64"
      ]
     },
     "execution_count": 26,
     "metadata": {},
     "output_type": "execute_result"
    }
   ],
   "source": [
    "# the Retail_store have the value e' and : between them and that need to be replaced \n",
    "\n",
    "wolt_data['Retail_store'].value_counts()"
   ]
  },
  {
   "cell_type": "code",
   "execution_count": 27,
   "id": "236db011",
   "metadata": {},
   "outputs": [],
   "source": [
    "# Making a copy of the data\n",
    "wolt_data_new = wolt_data.copy()"
   ]
  },
  {
   "cell_type": "code",
   "execution_count": 28,
   "id": "49940130",
   "metadata": {},
   "outputs": [],
   "source": [
    "# Replacing the : value to 0\n",
    "wolt_data_new['Pet_supplies'] = wolt_data_new['Pet_supplies'].replace(to_replace =\": \",\n",
    "                 value =\"0\")\n",
    "\n",
    "# Replacing the : value to 0\n",
    "wolt_data_new['Restaurant'] = wolt_data_new['Restaurant'].replace(to_replace =\": \",\n",
    "                 value =\"0\")\n",
    "\n",
    "# Replacing the e\" value to 0\n",
    "wolt_data_new['Retail_store'] = wolt_data_new['Retail_store'].replace(to_replace ='e\"',\n",
    "                 value =\"0\")\n",
    "\n",
    "# Replacing the : value to 0\n",
    "wolt_data_new['Retail_store'] = wolt_data_new['Retail_store'].replace(to_replace =': ',\n",
    "                 value =\"0\")"
   ]
  },
  {
   "cell_type": "code",
   "execution_count": 32,
   "id": "f2b7299c",
   "metadata": {},
   "outputs": [
    {
     "data": {
      "text/plain": [
       "0,    21599\n",
       " 0      209\n",
       " 1      173\n",
       "0         2\n",
       "Name: Pet_supplies, dtype: int64"
      ]
     },
     "execution_count": 32,
     "metadata": {},
     "output_type": "execute_result"
    }
   ],
   "source": [
    "wolt_data_new['Pet_supplies'].value_counts()"
   ]
  },
  {
   "cell_type": "code",
   "execution_count": 33,
   "id": "2e55cf74",
   "metadata": {},
   "outputs": [],
   "source": [
    "# Extracting only the numeric values\n",
    "wolt_data_new['General_merchandise'] = wolt_data_new['General_merchandise'].str.extract('(\\d+)').astype(int)\n",
    "wolt_data_new['Grocery'] = wolt_data_new['Grocery'].str.extract('(\\d+)').astype(int)\n",
    "wolt_data_new['Pet_supplies'] = wolt_data_new['Pet_supplies'].str.extract('(\\d+)').astype(int)\n",
    "wolt_data_new['Restaurant'] = wolt_data_new['Restaurant'].str.extract('(\\d+)').astype(int)\n",
    "wolt_data_new['Retail_store'] = wolt_data_new['Retail_store'].str.extract('(\\d+)').astype(int)"
   ]
  },
  {
   "cell_type": "code",
   "execution_count": 34,
   "id": "5a9e75e9",
   "metadata": {},
   "outputs": [
    {
     "data": {
      "text/plain": [
       "0    21810\n",
       "1      173\n",
       "Name: Pet_supplies, dtype: int64"
      ]
     },
     "execution_count": 34,
     "metadata": {},
     "output_type": "execute_result"
    }
   ],
   "source": [
    "#Checking the new outcome\n",
    "wolt_data_new['Pet_supplies'].value_counts()"
   ]
  },
  {
   "cell_type": "code",
   "execution_count": 35,
   "id": "6bbac645",
   "metadata": {},
   "outputs": [
    {
     "data": {
      "text/plain": [
       "0    20127\n",
       "3      496\n",
       "1      345\n",
       "4      317\n",
       "5      209\n",
       "6      143\n",
       "7      118\n",
       "8       88\n",
       "9       80\n",
       "2       60\n",
       "Name: Retail_store, dtype: int64"
      ]
     },
     "execution_count": 35,
     "metadata": {},
     "output_type": "execute_result"
    }
   ],
   "source": [
    "wolt_data_new['Retail_store'].value_counts()"
   ]
  },
  {
   "cell_type": "code",
   "execution_count": 36,
   "id": "51c137b3",
   "metadata": {},
   "outputs": [],
   "source": [
    "# Converting the type of the new columns into integers \n",
    "wolt_data_new['General_merchandise'] = wolt_data_new['General_merchandise'].astype(int)\n",
    "wolt_data_new['Grocery'] = wolt_data_new['Grocery'].astype(int)\n",
    "wolt_data_new['Pet_supplies'] = wolt_data_new['Pet_supplies'].astype(int)\n",
    "wolt_data_new['Restaurant'] = wolt_data_new['Restaurant'].astype(int)\n",
    "wolt_data_new['Retail_store'] = wolt_data_new['Retail_store'].astype(int)"
   ]
  },
  {
   "cell_type": "code",
   "execution_count": 37,
   "id": "09deb5bf",
   "metadata": {},
   "outputs": [
    {
     "name": "stdout",
     "output_type": "stream",
     "text": [
      "<class 'pandas.core.frame.DataFrame'>\n",
      "RangeIndex: 21983 entries, 0 to 21982\n",
      "Data columns (total 5 columns):\n",
      " #   Column               Non-Null Count  Dtype\n",
      "---  ------               --------------  -----\n",
      " 0   General_merchandise  21983 non-null  int32\n",
      " 1   Grocery              21983 non-null  int32\n",
      " 2   Pet_supplies         21983 non-null  int32\n",
      " 3   Restaurant           21983 non-null  int32\n",
      " 4   Retail_store         21983 non-null  int32\n",
      "dtypes: int32(5)\n",
      "memory usage: 429.5 KB\n"
     ]
    }
   ],
   "source": [
    "# Checking the type of the new columns\n",
    "wolt_data_new.iloc[:, -5:].info()"
   ]
  },
  {
   "cell_type": "code",
   "execution_count": 38,
   "id": "ff0238d2",
   "metadata": {},
   "outputs": [
    {
     "data": {
      "text/html": [
       "<div>\n",
       "<style scoped>\n",
       "    .dataframe tbody tr th:only-of-type {\n",
       "        vertical-align: middle;\n",
       "    }\n",
       "\n",
       "    .dataframe tbody tr th {\n",
       "        vertical-align: top;\n",
       "    }\n",
       "\n",
       "    .dataframe thead th {\n",
       "        text-align: right;\n",
       "    }\n",
       "</style>\n",
       "<table border=\"1\" class=\"dataframe\">\n",
       "  <thead>\n",
       "    <tr style=\"text-align: right;\">\n",
       "      <th></th>\n",
       "      <th>PURCHASE_COUNT</th>\n",
       "      <th>PURCHASE_COUNT_DELIVERY</th>\n",
       "      <th>PURCHASE_COUNT_TAKEAWAY</th>\n",
       "      <th>BREAKFAST_PURCHASES</th>\n",
       "      <th>LUNCH_PURCHASES</th>\n",
       "      <th>EVENING_PURCHASES</th>\n",
       "      <th>DINNER_PURCHASES</th>\n",
       "      <th>LATE_NIGHT_PURCHASES</th>\n",
       "      <th>TOTAL_PURCHASES_EUR</th>\n",
       "      <th>DISTINCT_PURCHASE_VENUE_COUNT</th>\n",
       "      <th>...</th>\n",
       "      <th>MOST_COMMON_HOUR_OF_THE_DAY_TO_PURCHASE</th>\n",
       "      <th>MOST_COMMON_WEEKDAY_TO_PURCHASE</th>\n",
       "      <th>AVG_DAYS_BETWEEN_PURCHASES</th>\n",
       "      <th>MEDIAN_DAYS_BETWEEN_PURCHASES</th>\n",
       "      <th>AVERAGE_DELIVERY_DISTANCE_KMS</th>\n",
       "      <th>General_merchandise</th>\n",
       "      <th>Grocery</th>\n",
       "      <th>Pet_supplies</th>\n",
       "      <th>Restaurant</th>\n",
       "      <th>Retail_store</th>\n",
       "    </tr>\n",
       "  </thead>\n",
       "  <tbody>\n",
       "    <tr>\n",
       "      <th>count</th>\n",
       "      <td>21983.000000</td>\n",
       "      <td>12028.000000</td>\n",
       "      <td>12028.000000</td>\n",
       "      <td>12028.000000</td>\n",
       "      <td>12028.000000</td>\n",
       "      <td>12028.000000</td>\n",
       "      <td>12028.000000</td>\n",
       "      <td>12028.0</td>\n",
       "      <td>12028.000000</td>\n",
       "      <td>12028.000000</td>\n",
       "      <td>...</td>\n",
       "      <td>12028.000000</td>\n",
       "      <td>12028.000000</td>\n",
       "      <td>7832.000000</td>\n",
       "      <td>7832.000000</td>\n",
       "      <td>12028.000000</td>\n",
       "      <td>21983.000000</td>\n",
       "      <td>21983.000000</td>\n",
       "      <td>21983.000000</td>\n",
       "      <td>21983.000000</td>\n",
       "      <td>21983.000000</td>\n",
       "    </tr>\n",
       "    <tr>\n",
       "      <th>mean</th>\n",
       "      <td>3.345358</td>\n",
       "      <td>5.741686</td>\n",
       "      <td>0.372464</td>\n",
       "      <td>0.193964</td>\n",
       "      <td>2.375042</td>\n",
       "      <td>0.493432</td>\n",
       "      <td>3.029016</td>\n",
       "      <td>0.0</td>\n",
       "      <td>176.210419</td>\n",
       "      <td>3.319671</td>\n",
       "      <td>...</td>\n",
       "      <td>11.501995</td>\n",
       "      <td>4.010392</td>\n",
       "      <td>64.293539</td>\n",
       "      <td>55.792135</td>\n",
       "      <td>5.961218</td>\n",
       "      <td>0.065596</td>\n",
       "      <td>0.569349</td>\n",
       "      <td>0.007870</td>\n",
       "      <td>1.746486</td>\n",
       "      <td>0.335441</td>\n",
       "    </tr>\n",
       "    <tr>\n",
       "      <th>std</th>\n",
       "      <td>8.523171</td>\n",
       "      <td>10.536220</td>\n",
       "      <td>1.416310</td>\n",
       "      <td>1.104067</td>\n",
       "      <td>5.626178</td>\n",
       "      <td>1.827710</td>\n",
       "      <td>5.238209</td>\n",
       "      <td>0.0</td>\n",
       "      <td>299.086986</td>\n",
       "      <td>3.766418</td>\n",
       "      <td>...</td>\n",
       "      <td>6.930837</td>\n",
       "      <td>2.010071</td>\n",
       "      <td>72.570103</td>\n",
       "      <td>74.963336</td>\n",
       "      <td>3.466263</td>\n",
       "      <td>0.247580</td>\n",
       "      <td>2.785153</td>\n",
       "      <td>0.088364</td>\n",
       "      <td>3.213905</td>\n",
       "      <td>1.278207</td>\n",
       "    </tr>\n",
       "    <tr>\n",
       "      <th>min</th>\n",
       "      <td>0.000000</td>\n",
       "      <td>0.000000</td>\n",
       "      <td>0.000000</td>\n",
       "      <td>0.000000</td>\n",
       "      <td>0.000000</td>\n",
       "      <td>0.000000</td>\n",
       "      <td>0.000000</td>\n",
       "      <td>0.0</td>\n",
       "      <td>1.012000</td>\n",
       "      <td>1.000000</td>\n",
       "      <td>...</td>\n",
       "      <td>0.000000</td>\n",
       "      <td>1.000000</td>\n",
       "      <td>0.000000</td>\n",
       "      <td>0.000000</td>\n",
       "      <td>0.002000</td>\n",
       "      <td>0.000000</td>\n",
       "      <td>0.000000</td>\n",
       "      <td>0.000000</td>\n",
       "      <td>0.000000</td>\n",
       "      <td>0.000000</td>\n",
       "    </tr>\n",
       "    <tr>\n",
       "      <th>25%</th>\n",
       "      <td>0.000000</td>\n",
       "      <td>1.000000</td>\n",
       "      <td>0.000000</td>\n",
       "      <td>0.000000</td>\n",
       "      <td>0.000000</td>\n",
       "      <td>0.000000</td>\n",
       "      <td>0.000000</td>\n",
       "      <td>0.0</td>\n",
       "      <td>32.384000</td>\n",
       "      <td>1.000000</td>\n",
       "      <td>...</td>\n",
       "      <td>5.000000</td>\n",
       "      <td>2.000000</td>\n",
       "      <td>18.000000</td>\n",
       "      <td>10.000000</td>\n",
       "      <td>2.950500</td>\n",
       "      <td>0.000000</td>\n",
       "      <td>0.000000</td>\n",
       "      <td>0.000000</td>\n",
       "      <td>0.000000</td>\n",
       "      <td>0.000000</td>\n",
       "    </tr>\n",
       "    <tr>\n",
       "      <th>50%</th>\n",
       "      <td>1.000000</td>\n",
       "      <td>2.000000</td>\n",
       "      <td>0.000000</td>\n",
       "      <td>0.000000</td>\n",
       "      <td>1.000000</td>\n",
       "      <td>0.000000</td>\n",
       "      <td>1.000000</td>\n",
       "      <td>0.0</td>\n",
       "      <td>75.900000</td>\n",
       "      <td>2.000000</td>\n",
       "      <td>...</td>\n",
       "      <td>11.500000</td>\n",
       "      <td>4.000000</td>\n",
       "      <td>39.500000</td>\n",
       "      <td>25.000000</td>\n",
       "      <td>5.928000</td>\n",
       "      <td>0.000000</td>\n",
       "      <td>0.000000</td>\n",
       "      <td>0.000000</td>\n",
       "      <td>1.000000</td>\n",
       "      <td>0.000000</td>\n",
       "    </tr>\n",
       "    <tr>\n",
       "      <th>75%</th>\n",
       "      <td>3.000000</td>\n",
       "      <td>6.000000</td>\n",
       "      <td>0.000000</td>\n",
       "      <td>0.000000</td>\n",
       "      <td>2.000000</td>\n",
       "      <td>0.000000</td>\n",
       "      <td>3.000000</td>\n",
       "      <td>0.0</td>\n",
       "      <td>196.328000</td>\n",
       "      <td>4.000000</td>\n",
       "      <td>...</td>\n",
       "      <td>18.000000</td>\n",
       "      <td>6.000000</td>\n",
       "      <td>81.000000</td>\n",
       "      <td>68.250000</td>\n",
       "      <td>8.978000</td>\n",
       "      <td>0.000000</td>\n",
       "      <td>0.000000</td>\n",
       "      <td>0.000000</td>\n",
       "      <td>3.000000</td>\n",
       "      <td>0.000000</td>\n",
       "    </tr>\n",
       "    <tr>\n",
       "      <th>max</th>\n",
       "      <td>320.000000</td>\n",
       "      <td>320.000000</td>\n",
       "      <td>44.000000</td>\n",
       "      <td>52.000000</td>\n",
       "      <td>171.000000</td>\n",
       "      <td>71.000000</td>\n",
       "      <td>104.000000</td>\n",
       "      <td>0.0</td>\n",
       "      <td>7979.620000</td>\n",
       "      <td>71.000000</td>\n",
       "      <td>...</td>\n",
       "      <td>23.000000</td>\n",
       "      <td>7.000000</td>\n",
       "      <td>421.000000</td>\n",
       "      <td>421.000000</td>\n",
       "      <td>11.999000</td>\n",
       "      <td>1.000000</td>\n",
       "      <td>82.000000</td>\n",
       "      <td>1.000000</td>\n",
       "      <td>88.000000</td>\n",
       "      <td>9.000000</td>\n",
       "    </tr>\n",
       "  </tbody>\n",
       "</table>\n",
       "<p>8 rows × 26 columns</p>\n",
       "</div>"
      ],
      "text/plain": [
       "       PURCHASE_COUNT  PURCHASE_COUNT_DELIVERY  PURCHASE_COUNT_TAKEAWAY  \\\n",
       "count    21983.000000             12028.000000             12028.000000   \n",
       "mean         3.345358                 5.741686                 0.372464   \n",
       "std          8.523171                10.536220                 1.416310   \n",
       "min          0.000000                 0.000000                 0.000000   \n",
       "25%          0.000000                 1.000000                 0.000000   \n",
       "50%          1.000000                 2.000000                 0.000000   \n",
       "75%          3.000000                 6.000000                 0.000000   \n",
       "max        320.000000               320.000000                44.000000   \n",
       "\n",
       "       BREAKFAST_PURCHASES  LUNCH_PURCHASES  EVENING_PURCHASES  \\\n",
       "count         12028.000000     12028.000000       12028.000000   \n",
       "mean              0.193964         2.375042           0.493432   \n",
       "std               1.104067         5.626178           1.827710   \n",
       "min               0.000000         0.000000           0.000000   \n",
       "25%               0.000000         0.000000           0.000000   \n",
       "50%               0.000000         1.000000           0.000000   \n",
       "75%               0.000000         2.000000           0.000000   \n",
       "max              52.000000       171.000000          71.000000   \n",
       "\n",
       "       DINNER_PURCHASES  LATE_NIGHT_PURCHASES  TOTAL_PURCHASES_EUR  \\\n",
       "count      12028.000000               12028.0         12028.000000   \n",
       "mean           3.029016                   0.0           176.210419   \n",
       "std            5.238209                   0.0           299.086986   \n",
       "min            0.000000                   0.0             1.012000   \n",
       "25%            0.000000                   0.0            32.384000   \n",
       "50%            1.000000                   0.0            75.900000   \n",
       "75%            3.000000                   0.0           196.328000   \n",
       "max          104.000000                   0.0          7979.620000   \n",
       "\n",
       "       DISTINCT_PURCHASE_VENUE_COUNT  ...  \\\n",
       "count                   12028.000000  ...   \n",
       "mean                        3.319671  ...   \n",
       "std                         3.766418  ...   \n",
       "min                         1.000000  ...   \n",
       "25%                         1.000000  ...   \n",
       "50%                         2.000000  ...   \n",
       "75%                         4.000000  ...   \n",
       "max                        71.000000  ...   \n",
       "\n",
       "       MOST_COMMON_HOUR_OF_THE_DAY_TO_PURCHASE  \\\n",
       "count                             12028.000000   \n",
       "mean                                 11.501995   \n",
       "std                                   6.930837   \n",
       "min                                   0.000000   \n",
       "25%                                   5.000000   \n",
       "50%                                  11.500000   \n",
       "75%                                  18.000000   \n",
       "max                                  23.000000   \n",
       "\n",
       "       MOST_COMMON_WEEKDAY_TO_PURCHASE  AVG_DAYS_BETWEEN_PURCHASES  \\\n",
       "count                     12028.000000                 7832.000000   \n",
       "mean                          4.010392                   64.293539   \n",
       "std                           2.010071                   72.570103   \n",
       "min                           1.000000                    0.000000   \n",
       "25%                           2.000000                   18.000000   \n",
       "50%                           4.000000                   39.500000   \n",
       "75%                           6.000000                   81.000000   \n",
       "max                           7.000000                  421.000000   \n",
       "\n",
       "       MEDIAN_DAYS_BETWEEN_PURCHASES  AVERAGE_DELIVERY_DISTANCE_KMS  \\\n",
       "count                    7832.000000                   12028.000000   \n",
       "mean                       55.792135                       5.961218   \n",
       "std                        74.963336                       3.466263   \n",
       "min                         0.000000                       0.002000   \n",
       "25%                        10.000000                       2.950500   \n",
       "50%                        25.000000                       5.928000   \n",
       "75%                        68.250000                       8.978000   \n",
       "max                       421.000000                      11.999000   \n",
       "\n",
       "       General_merchandise       Grocery  Pet_supplies    Restaurant  \\\n",
       "count         21983.000000  21983.000000  21983.000000  21983.000000   \n",
       "mean              0.065596      0.569349      0.007870      1.746486   \n",
       "std               0.247580      2.785153      0.088364      3.213905   \n",
       "min               0.000000      0.000000      0.000000      0.000000   \n",
       "25%               0.000000      0.000000      0.000000      0.000000   \n",
       "50%               0.000000      0.000000      0.000000      1.000000   \n",
       "75%               0.000000      0.000000      0.000000      3.000000   \n",
       "max               1.000000     82.000000      1.000000     88.000000   \n",
       "\n",
       "       Retail_store  \n",
       "count  21983.000000  \n",
       "mean       0.335441  \n",
       "std        1.278207  \n",
       "min        0.000000  \n",
       "25%        0.000000  \n",
       "50%        0.000000  \n",
       "75%        0.000000  \n",
       "max        9.000000  \n",
       "\n",
       "[8 rows x 26 columns]"
      ]
     },
     "execution_count": 38,
     "metadata": {},
     "output_type": "execute_result"
    }
   ],
   "source": [
    "#to take a deeper look at the data and understand it\n",
    "wolt_data_new.describe()\n"
   ]
  },
  {
   "cell_type": "code",
   "execution_count": 39,
   "id": "061bcbf7",
   "metadata": {},
   "outputs": [],
   "source": [
    "# Filling the null values with the string Unknown\n",
    "wolt_data_new[\"PREFERRED_DEVICE\"].fillna('Unkown', inplace=True)"
   ]
  },
  {
   "cell_type": "code",
   "execution_count": 41,
   "id": "fac71049",
   "metadata": {
    "scrolled": true
   },
   "outputs": [
    {
     "data": {
      "image/png": "[encoded data removed]",
      "text/plain": [
       "<Figure size 1152x1440 with 6 Axes>"
      ]
     },
     "metadata": {
      "needs_background": "light"
     },
     "output_type": "display_data"
    }
   ],
   "source": [
    "wolt_data_new.iloc[:, -5:].hist(figsize=(16, 20), bins=50, xlabelsize=10, ylabelsize=10); \n",
    "plt.subplots_adjust(wspace=1, hspace=0.3)\n",
    "# ; avoid having the matplotlib verbose informations"
   ]
  },
  {
   "cell_type": "code",
   "execution_count": 42,
   "id": "ccdffed7",
   "metadata": {},
   "outputs": [
    {
     "data": {
      "text/plain": [
       "Text(0.5, 1.0, 'Purchase count per device type for each registration data')"
      ]
     },
     "execution_count": 42,
     "metadata": {},
     "output_type": "execute_result"
    },
    {
     "data": {
      "image/png": "[encoded data removed]",
      "text/plain": [
       "<Figure size 1440x720 with 1 Axes>"
      ]
     },
     "metadata": {},
     "output_type": "display_data"
    }
   ],
   "source": [
    "sns.set(rc = {'figure.figsize':(20,10)})\n",
    "\n",
    "# Draw line plot of REGISTRATION_DATE and PURCHASE_COUNT with parameters\n",
    "line_chart = sns.lineplot(data = wolt_data_new, x ='REGISTRATION_DATE', y='PURCHASE_COUNT', hue='PREFERRED_DEVICE',\n",
    "            style = \"PREFERRED_DEVICE\", palette = \"hot\", dashes = False,  legend=\"brief\")\n",
    "line_chart.set_title(\"Purchase count per device type for each registration data\")"
   ]
  },
  {
   "cell_type": "markdown",
   "id": "e0be2e30",
   "metadata": {},
   "source": [
    "# Looking at the line chart we notice that customers purchase the most using the web platform, followed by IOS and Android that are almost equally popular modes of purchase"
   ]
  },
  {
   "cell_type": "code",
   "execution_count": 43,
   "id": "3a5a6f86",
   "metadata": {},
   "outputs": [],
   "source": [
    "sns.set(rc = {'figure.figsize':(20,10)})\n",
    "\n",
    "# Creating a sub dataframe to segment the data based on the time of purchase\n",
    "df_multible_columns = pd.DataFrame(data = wolt_data_new, columns = ['BREAKFAST_PURCHASES','LUNCH_PURCHASES',\n",
    "                                                                'EVENING_PURCHASES','DINNER_PURCHASES',\n",
    "                                                               'LATE_NIGHT_PURCHASES'])\n",
    "# Melting the dataframe to become long instead of wide for better visualisation\n",
    "df_multible_columns_long = pd.melt(df_multible_columns)\n",
    "\n",
    "df_multible_columns_long.head()\n",
    "\n",
    "# Grouping by the purchase time and summing the values\n",
    "df_multible_columns_long = df_multible_columns_long.groupby('variable', as_index = False).sum()"
   ]
  },
  {
   "cell_type": "code",
   "execution_count": 44,
   "id": "c4c5e13e",
   "metadata": {},
   "outputs": [
    {
     "data": {
      "text/plain": [
       "Text(0.5, 1.0, 'Purchase count per meal time')"
      ]
     },
     "execution_count": 44,
     "metadata": {},
     "output_type": "execute_result"
    },
    {
     "data": {
      "image/png": "[encoded data removed]",
      "text/plain": [
       "<Figure size 1440x720 with 1 Axes>"
      ]
     },
     "metadata": {},
     "output_type": "display_data"
    }
   ],
   "source": [
    "# Renaming the columns\n",
    "df_multible_columns_long.rename({'variable': 'Purchase_Time', 'value': 'Purchase_count_Average'}, axis = 1, inplace=True)\n",
    "\n",
    "# Creating a bar chart that shows the average of purchase count for each category\n",
    "meal_time = sns.barplot(x=\"Purchase_Time\", y=\"Purchase_count_Average\", hue = 'Purchase_Time', data= df_multible_columns_long)\n",
    "\n",
    "meal_time.set_title('Purchase count per meal time')"
   ]
  },
  {
   "cell_type": "markdown",
   "id": "1f25e266",
   "metadata": {},
   "source": [
    "most users purchase at dinner and lunch time, which opens possibilities to provide products that would sell for breakfast and other times."
   ]
  },
  {
   "cell_type": "code",
   "execution_count": 45,
   "id": "b63748cd",
   "metadata": {},
   "outputs": [
    {
     "name": "stdout",
     "output_type": "stream",
     "text": [
      "<class 'pandas.core.frame.DataFrame'>\n",
      "RangeIndex: 109915 entries, 0 to 109914\n",
      "Data columns (total 2 columns):\n",
      " #   Column    Non-Null Count   Dtype \n",
      "---  ------    --------------   ----- \n",
      " 0   variable  109915 non-null  object\n",
      " 1   value     109915 non-null  int32 \n",
      "dtypes: int32(1), object(1)\n",
      "memory usage: 1.3+ MB\n"
     ]
    }
   ],
   "source": [
    "# Setting up the figure size\n",
    "sns.set(rc = {'figure.figsize':(20,10)})\n",
    "\n",
    "# Creating a sub dataframe to segment the data based on the type of purchase\n",
    "df_purchase_type = pd.DataFrame(data = wolt_data_new, columns = ['General_merchandise', 'Grocery',\n",
    "       'Pet_supplies', 'Restaurant', 'Retail_store'])\n",
    "\n",
    "# Melting the dataframe to become long instead of wide for better visualisation\n",
    "df_purchase_type_long = pd.melt(df_purchase_type)\n",
    "\n",
    "df_purchase_type_long.info()"
   ]
  },
  {
   "cell_type": "code",
   "execution_count": 46,
   "id": "97e41623",
   "metadata": {},
   "outputs": [
    {
     "data": {
      "text/plain": [
       "variable    0\n",
       "value       0\n",
       "dtype: int64"
      ]
     },
     "execution_count": 46,
     "metadata": {},
     "output_type": "execute_result"
    }
   ],
   "source": [
    "# Cheking if we have any missing values\n",
    "df_purchase_type_long.isnull().sum()"
   ]
  },
  {
   "cell_type": "code",
   "execution_count": 47,
   "id": "6571f544",
   "metadata": {},
   "outputs": [
    {
     "data": {
      "text/html": [
       "<div>\n",
       "<style scoped>\n",
       "    .dataframe tbody tr th:only-of-type {\n",
       "        vertical-align: middle;\n",
       "    }\n",
       "\n",
       "    .dataframe tbody tr th {\n",
       "        vertical-align: top;\n",
       "    }\n",
       "\n",
       "    .dataframe thead th {\n",
       "        text-align: right;\n",
       "    }\n",
       "</style>\n",
       "<table border=\"1\" class=\"dataframe\">\n",
       "  <thead>\n",
       "    <tr style=\"text-align: right;\">\n",
       "      <th></th>\n",
       "      <th>variable</th>\n",
       "      <th>value</th>\n",
       "    </tr>\n",
       "  </thead>\n",
       "  <tbody>\n",
       "    <tr>\n",
       "      <th>0</th>\n",
       "      <td>General_merchandise</td>\n",
       "      <td>0</td>\n",
       "    </tr>\n",
       "    <tr>\n",
       "      <th>1</th>\n",
       "      <td>General_merchandise</td>\n",
       "      <td>0</td>\n",
       "    </tr>\n",
       "    <tr>\n",
       "      <th>2</th>\n",
       "      <td>General_merchandise</td>\n",
       "      <td>1</td>\n",
       "    </tr>\n",
       "    <tr>\n",
       "      <th>3</th>\n",
       "      <td>General_merchandise</td>\n",
       "      <td>0</td>\n",
       "    </tr>\n",
       "    <tr>\n",
       "      <th>4</th>\n",
       "      <td>General_merchandise</td>\n",
       "      <td>0</td>\n",
       "    </tr>\n",
       "    <tr>\n",
       "      <th>...</th>\n",
       "      <td>...</td>\n",
       "      <td>...</td>\n",
       "    </tr>\n",
       "    <tr>\n",
       "      <th>109910</th>\n",
       "      <td>Retail_store</td>\n",
       "      <td>0</td>\n",
       "    </tr>\n",
       "    <tr>\n",
       "      <th>109911</th>\n",
       "      <td>Retail_store</td>\n",
       "      <td>0</td>\n",
       "    </tr>\n",
       "    <tr>\n",
       "      <th>109912</th>\n",
       "      <td>Retail_store</td>\n",
       "      <td>0</td>\n",
       "    </tr>\n",
       "    <tr>\n",
       "      <th>109913</th>\n",
       "      <td>Retail_store</td>\n",
       "      <td>0</td>\n",
       "    </tr>\n",
       "    <tr>\n",
       "      <th>109914</th>\n",
       "      <td>Retail_store</td>\n",
       "      <td>0</td>\n",
       "    </tr>\n",
       "  </tbody>\n",
       "</table>\n",
       "<p>109915 rows × 2 columns</p>\n",
       "</div>"
      ],
      "text/plain": [
       "                   variable  value\n",
       "0       General_merchandise      0\n",
       "1       General_merchandise      0\n",
       "2       General_merchandise      1\n",
       "3       General_merchandise      0\n",
       "4       General_merchandise      0\n",
       "...                     ...    ...\n",
       "109910         Retail_store      0\n",
       "109911         Retail_store      0\n",
       "109912         Retail_store      0\n",
       "109913         Retail_store      0\n",
       "109914         Retail_store      0\n",
       "\n",
       "[109915 rows x 2 columns]"
      ]
     },
     "execution_count": 47,
     "metadata": {},
     "output_type": "execute_result"
    }
   ],
   "source": [
    "# Checking the new dataframe\n",
    "df_purchase_type_long"
   ]
  },
  {
   "cell_type": "code",
   "execution_count": 48,
   "id": "db289df8",
   "metadata": {},
   "outputs": [],
   "source": [
    "# Renaming the columns\n",
    "df_purchase_type_long.rename({'variable': 'Purchase_Type', 'value': 'Quantity_of_purchases'}, axis = 1, inplace=True)"
   ]
  },
  {
   "cell_type": "code",
   "execution_count": 49,
   "id": "a11ceff7",
   "metadata": {},
   "outputs": [],
   "source": [
    "# Grouping and summing the values to visualise the data\n",
    "df_purchase_type_long = df_purchase_type_long.groupby(['Purchase_Type'], as_index = False).sum()"
   ]
  },
  {
   "cell_type": "code",
   "execution_count": 50,
   "id": "e7f63cd9",
   "metadata": {},
   "outputs": [
    {
     "data": {
      "text/plain": [
       "Text(0.5, 1.0, 'Purchase quantity per store type')"
      ]
     },
     "execution_count": 50,
     "metadata": {},
     "output_type": "execute_result"
    },
    {
     "data": {
      "image/png": "[encoded data removed]",
      "text/plain": [
       "<Figure size 1440x720 with 1 Axes>"
      ]
     },
     "metadata": {},
     "output_type": "display_data"
    }
   ],
   "source": [
    "# Creating a bar chart that shows the sum of purchase store type for each category\n",
    "store_type = sns.barplot(x=\"Purchase_Type\", y = 'Quantity_of_purchases', data= df_purchase_type_long)\n",
    "\n",
    "store_type.set_title('Purchase quantity per store type')"
   ]
  },
  {
   "cell_type": "markdown",
   "id": "538e195e",
   "metadata": {},
   "source": [
    "# We can see on the chart that most of the orders come from restaurants and groceries then come at second place. That could be caused by not having enough options for the other stores types."
   ]
  },
  {
   "cell_type": "code",
   "execution_count": 51,
   "id": "9551143a",
   "metadata": {},
   "outputs": [],
   "source": [
    "top_20_users = wolt_data_new.sort_values('PURCHASE_COUNT', ascending=False).head(20)"
   ]
  },
  {
   "cell_type": "code",
   "execution_count": 52,
   "id": "729988aa",
   "metadata": {},
   "outputs": [
    {
     "data": {
      "text/plain": [
       "Text(0.5, 1.0, 'Top 20 users per purchase count and country')"
      ]
     },
     "execution_count": 52,
     "metadata": {},
     "output_type": "execute_result"
    },
    {
     "data": {
      "image/png": "[encoded data removed]",
      "text/plain": [
       "<Figure size 1440x720 with 1 Axes>"
      ]
     },
     "metadata": {},
     "output_type": "display_data"
    }
   ],
   "source": [
    "# Creating a bar chart that shows Top 20 users per purchase count and country\n",
    "store_type = sns.barplot(x=\"USER_ID\", y = 'PURCHASE_COUNT', data= top_20_users, hue = 'REGISTRATION_COUNTRY')\n",
    "\n",
    "store_type.set_title('Top 20 users per purchase count and country')"
   ]
  },
  {
   "cell_type": "markdown",
   "id": "465ce58e",
   "metadata": {},
   "source": [
    "In the chart above we can have a quick view of all users by country and see the most loyal customers"
   ]
  },
  {
   "cell_type": "code",
   "execution_count": 53,
   "id": "aec11e63",
   "metadata": {},
   "outputs": [
    {
     "data": {
      "text/html": [
       "<div>\n",
       "<style scoped>\n",
       "    .dataframe tbody tr th:only-of-type {\n",
       "        vertical-align: middle;\n",
       "    }\n",
       "\n",
       "    .dataframe tbody tr th {\n",
       "        vertical-align: top;\n",
       "    }\n",
       "\n",
       "    .dataframe thead th {\n",
       "        text-align: right;\n",
       "    }\n",
       "</style>\n",
       "<table border=\"1\" class=\"dataframe\">\n",
       "  <thead>\n",
       "    <tr style=\"text-align: right;\">\n",
       "      <th></th>\n",
       "      <th>PREFERRED_DEVICE</th>\n",
       "      <th>REGISTRATION_DATE</th>\n",
       "    </tr>\n",
       "  </thead>\n",
       "  <tbody>\n",
       "    <tr>\n",
       "      <th>0</th>\n",
       "      <td>Unkown</td>\n",
       "      <td>72</td>\n",
       "    </tr>\n",
       "    <tr>\n",
       "      <th>1</th>\n",
       "      <td>android</td>\n",
       "      <td>4340</td>\n",
       "    </tr>\n",
       "    <tr>\n",
       "      <th>2</th>\n",
       "      <td>ios</td>\n",
       "      <td>4419</td>\n",
       "    </tr>\n",
       "    <tr>\n",
       "      <th>3</th>\n",
       "      <td>web</td>\n",
       "      <td>1124</td>\n",
       "    </tr>\n",
       "  </tbody>\n",
       "</table>\n",
       "</div>"
      ],
      "text/plain": [
       "  PREFERRED_DEVICE  REGISTRATION_DATE\n",
       "0           Unkown                 72\n",
       "1          android               4340\n",
       "2              ios               4419\n",
       "3              web               1124"
      ]
     },
     "execution_count": 53,
     "metadata": {},
     "output_type": "execute_result"
    }
   ],
   "source": [
    "# Creating a segement of the dataframe that will show users with 0 purchases \n",
    "zero_purchase = wolt_data_new[wolt_data_new['PURCHASE_COUNT'] == 0]\n",
    "\n",
    "# Grouping by PREFERRED_DEVICE and counting the values\n",
    "PREFERRED_DEVICE = zero_purchase.groupby(['PREFERRED_DEVICE'], as_index = False)['REGISTRATION_DATE'].count()\n",
    "PREFERRED_DEVICE"
   ]
  },
  {
   "cell_type": "code",
   "execution_count": 54,
   "id": "b4c90b40",
   "metadata": {},
   "outputs": [
    {
     "data": {
      "text/html": [
       "<div>\n",
       "<style scoped>\n",
       "    .dataframe tbody tr th:only-of-type {\n",
       "        vertical-align: middle;\n",
       "    }\n",
       "\n",
       "    .dataframe tbody tr th {\n",
       "        vertical-align: top;\n",
       "    }\n",
       "\n",
       "    .dataframe thead th {\n",
       "        text-align: right;\n",
       "    }\n",
       "</style>\n",
       "<table border=\"1\" class=\"dataframe\">\n",
       "  <thead>\n",
       "    <tr style=\"text-align: right;\">\n",
       "      <th></th>\n",
       "      <th>PREFERRED_DEVICE</th>\n",
       "      <th>REGISTRATION_DATE</th>\n",
       "      <th>percent</th>\n",
       "    </tr>\n",
       "  </thead>\n",
       "  <tbody>\n",
       "    <tr>\n",
       "      <th>0</th>\n",
       "      <td>Unkown</td>\n",
       "      <td>72</td>\n",
       "      <td>0.723255</td>\n",
       "    </tr>\n",
       "    <tr>\n",
       "      <th>1</th>\n",
       "      <td>android</td>\n",
       "      <td>4340</td>\n",
       "      <td>43.596183</td>\n",
       "    </tr>\n",
       "    <tr>\n",
       "      <th>2</th>\n",
       "      <td>ios</td>\n",
       "      <td>4419</td>\n",
       "      <td>44.389754</td>\n",
       "    </tr>\n",
       "    <tr>\n",
       "      <th>3</th>\n",
       "      <td>web</td>\n",
       "      <td>1124</td>\n",
       "      <td>11.290809</td>\n",
       "    </tr>\n",
       "  </tbody>\n",
       "</table>\n",
       "</div>"
      ],
      "text/plain": [
       "  PREFERRED_DEVICE  REGISTRATION_DATE    percent\n",
       "0           Unkown                 72   0.723255\n",
       "1          android               4340  43.596183\n",
       "2              ios               4419  44.389754\n",
       "3              web               1124  11.290809"
      ]
     },
     "execution_count": 54,
     "metadata": {},
     "output_type": "execute_result"
    }
   ],
   "source": [
    "# Calculating the percentage to see the ratio of customers with 0 purchases per device type\n",
    "\n",
    "PREFERRED_DEVICE['percent'] = (PREFERRED_DEVICE['REGISTRATION_DATE'] / PREFERRED_DEVICE['REGISTRATION_DATE'].sum()) * 100\n",
    "PREFERRED_DEVICE"
   ]
  },
  {
   "cell_type": "code",
   "execution_count": 55,
   "id": "edbfc60d",
   "metadata": {},
   "outputs": [
    {
     "data": {
      "text/plain": [
       "Text(0.5, 1.0, 'The count of users who registered but never ordered anything')"
      ]
     },
     "execution_count": 55,
     "metadata": {},
     "output_type": "execute_result"
    },
    {
     "data": {
      "image/png": "[encoded data removed]",
      "text/plain": [
       "<Figure size 1440x720 with 1 Axes>"
      ]
     },
     "metadata": {},
     "output_type": "display_data"
    }
   ],
   "source": [
    "# Creating a bar chart that shows users who registered but never ordered anything\n",
    "store_type = sns.barplot(x=\"PREFERRED_DEVICE\", y = 'percent', data= PREFERRED_DEVICE)\n",
    "\n",
    "store_type.set_title('The count of users who registered but never ordered anything')"
   ]
  },
  {
   "cell_type": "markdown",
   "id": "9da127b5",
   "metadata": {},
   "source": [
    "Users with Android and IOS who didn't purchase anything when combined will have the 87% and for the web, we have 11%.\n",
    "This is a great opportunity to dig deeper and understand what could be the reason behind this. "
   ]
  },
  {
   "cell_type": "code",
   "execution_count": 56,
   "id": "1eda9b21",
   "metadata": {},
   "outputs": [],
   "source": [
    "# Renaming the values to weekday for easier read, starting from 1 Monday\n",
    "wolt_data_new['MOST_COMMON_WEEKDAY_TO_PURCHASE'] = wolt_data_new['MOST_COMMON_WEEKDAY_TO_PURCHASE'].replace({1: 'Monday', 2: 'Tuesday', 3: 'Wednesday',\n",
    "                                                          4: 'Thursday', 5: 'Friday', 6: 'Saturday',\n",
    "                                                         7: 'Sunday'})"
   ]
  },
  {
   "cell_type": "code",
   "execution_count": 57,
   "id": "dc01c7d9",
   "metadata": {},
   "outputs": [
    {
     "data": {
      "text/plain": [
       "MOST_COMMON_WEEKDAY_TO_PURCHASE\n",
       "Friday        9694\n",
       "Monday       10259\n",
       "Saturday     10066\n",
       "Sunday       10758\n",
       "Thursday     11518\n",
       "Tuesday      10737\n",
       "Wednesday    10509\n",
       "Name: PURCHASE_COUNT, dtype: int64"
      ]
     },
     "execution_count": 57,
     "metadata": {},
     "output_type": "execute_result"
    }
   ],
   "source": [
    "# There are no significant differences in the purchase count per weekday\n",
    "wolt_data_new.groupby(['MOST_COMMON_WEEKDAY_TO_PURCHASE'])['PURCHASE_COUNT'].sum()"
   ]
  },
  {
   "cell_type": "markdown",
   "id": "ac534838",
   "metadata": {},
   "source": [
    "There are no significant differences in purchases per weekday but the lowest is Friday and highest is Thursday"
   ]
  },
  {
   "cell_type": "code",
   "execution_count": 58,
   "id": "fbbdb1e6",
   "metadata": {},
   "outputs": [],
   "source": [
    "# Creating true or false values based on whether there is a purchase at a certain store or not\n",
    "\n",
    "wolt_data_new['General_merchandise_yes_or_no'] = wolt_data_new['General_merchandise'] > 0\n",
    "wolt_data_new['Grocery_yes_or_no'] = wolt_data_new['Grocery'] > 0\n",
    "wolt_data_new['Pet_supplies_yes_or_no'] = wolt_data_new['Pet_supplies'] > 0\n",
    "wolt_data_new['Restaurant_yes_or_no'] = wolt_data_new['Restaurant'] > 0\n",
    "wolt_data_new['Retail_store_yes_or_no'] = wolt_data_new['Retail_store'] > 0"
   ]
  },
  {
   "cell_type": "code",
   "execution_count": 59,
   "id": "8bb0266f",
   "metadata": {},
   "outputs": [],
   "source": [
    "# Changing the true and false values into 0 and 1 so that we can easily sum them\n",
    "wolt_data_new['General_merchandise_yes_or_no'] = wolt_data_new['General_merchandise_yes_or_no'].astype(int)\n",
    "wolt_data_new['Grocery_yes_or_no'] = wolt_data_new['Grocery_yes_or_no'].astype(int)\n",
    "wolt_data_new['Pet_supplies_yes_or_no'] = wolt_data_new['Pet_supplies_yes_or_no'].astype(int)\n",
    "wolt_data_new['Restaurant_yes_or_no'] = wolt_data_new['Restaurant_yes_or_no'].astype(int)\n",
    "wolt_data_new['Retail_store_yes_or_no'] =wolt_data_new['Retail_store_yes_or_no'].astype(int)"
   ]
  },
  {
   "cell_type": "code",
   "execution_count": 60,
   "id": "4c601c61",
   "metadata": {},
   "outputs": [],
   "source": [
    "# Creating a new column that will sum the number of purchase type per users\n",
    "wolt_data_new['Number_of_purchase_types'] = (wolt_data_new['General_merchandise_yes_or_no'] \n",
    "                                             + wolt_data_new['Grocery_yes_or_no'] +\n",
    "                                            wolt_data_new['Pet_supplies_yes_or_no'] +\n",
    "                                            wolt_data_new['Restaurant_yes_or_no'] +\n",
    "                                            wolt_data_new['Retail_store_yes_or_no'])"
   ]
  },
  {
   "cell_type": "code",
   "execution_count": 61,
   "id": "0eb7dbf1",
   "metadata": {},
   "outputs": [],
   "source": [
    "# Grouping Number_of_purchase_types to see the count of users who purchases from more than one store type\n",
    "purchase_types_USER_ID = wolt_data_new.groupby(['Number_of_purchase_types'])['USER_ID'].count()"
   ]
  },
  {
   "cell_type": "code",
   "execution_count": 62,
   "id": "07a020f5",
   "metadata": {},
   "outputs": [],
   "source": [
    "# Grouping Number_of_purchase_types to see the sum of PURCHASE_COUNT from more than one store type\n",
    "purchase_types_PURCHASE_COUNT = wolt_data_new.groupby(['Number_of_purchase_types'])['PURCHASE_COUNT'].sum()"
   ]
  },
  {
   "cell_type": "code",
   "execution_count": 63,
   "id": "035b6020",
   "metadata": {},
   "outputs": [
    {
     "data": {
      "text/html": [
       "<div>\n",
       "<style scoped>\n",
       "    .dataframe tbody tr th:only-of-type {\n",
       "        vertical-align: middle;\n",
       "    }\n",
       "\n",
       "    .dataframe tbody tr th {\n",
       "        vertical-align: top;\n",
       "    }\n",
       "\n",
       "    .dataframe thead th {\n",
       "        text-align: right;\n",
       "    }\n",
       "</style>\n",
       "<table border=\"1\" class=\"dataframe\">\n",
       "  <thead>\n",
       "    <tr style=\"text-align: right;\">\n",
       "      <th></th>\n",
       "      <th>Number_of_purchase_types</th>\n",
       "      <th>USER_ID_Count</th>\n",
       "      <th>PURCHASE_COUNT</th>\n",
       "    </tr>\n",
       "  </thead>\n",
       "  <tbody>\n",
       "    <tr>\n",
       "      <th>0</th>\n",
       "      <td>0</td>\n",
       "      <td>9955</td>\n",
       "      <td>0</td>\n",
       "    </tr>\n",
       "    <tr>\n",
       "      <th>1</th>\n",
       "      <td>1</td>\n",
       "      <td>8557</td>\n",
       "      <td>18206</td>\n",
       "    </tr>\n",
       "    <tr>\n",
       "      <th>2</th>\n",
       "      <td>2</td>\n",
       "      <td>1856</td>\n",
       "      <td>28730</td>\n",
       "    </tr>\n",
       "    <tr>\n",
       "      <th>3</th>\n",
       "      <td>3</td>\n",
       "      <td>1615</td>\n",
       "      <td>26605</td>\n",
       "    </tr>\n",
       "  </tbody>\n",
       "</table>\n",
       "</div>"
      ],
      "text/plain": [
       "  Number_of_purchase_types  USER_ID_Count  PURCHASE_COUNT\n",
       "0                        0           9955               0\n",
       "1                        1           8557           18206\n",
       "2                        2           1856           28730\n",
       "3                        3           1615           26605"
      ]
     },
     "execution_count": 63,
     "metadata": {},
     "output_type": "execute_result"
    }
   ],
   "source": [
    "# Combining both dataframes together\n",
    "combined_data = pd.concat([purchase_types_USER_ID, purchase_types_PURCHASE_COUNT], axis = 1)\n",
    "# Renaming the columns\n",
    "combined_data.rename({'USER_ID': 'USER_ID_Count'}, axis = 1, inplace=True)\n",
    "# Resetting the index\n",
    "combined_data = combined_data.reset_index()\n",
    "# Changing the Number_of_purchase_types data type to string for better visualisation\n",
    "combined_data['Number_of_purchase_types'] = combined_data['Number_of_purchase_types'].astype(str)\n",
    "combined_data"
   ]
  },
  {
   "cell_type": "markdown",
   "id": "a48b7ce3",
   "metadata": {},
   "source": [
    "It is clear that, amongst the users who do make a purchase, most users purchase from one store type only. However the users who buy from more than one store type place a lot more orders."
   ]
  },
  {
   "cell_type": "code",
   "execution_count": 64,
   "id": "2175cd10",
   "metadata": {},
   "outputs": [
    {
     "data": {
      "text/html": [
       "<div>\n",
       "<style scoped>\n",
       "    .dataframe tbody tr th:only-of-type {\n",
       "        vertical-align: middle;\n",
       "    }\n",
       "\n",
       "    .dataframe tbody tr th {\n",
       "        vertical-align: top;\n",
       "    }\n",
       "\n",
       "    .dataframe thead th {\n",
       "        text-align: right;\n",
       "    }\n",
       "</style>\n",
       "<table border=\"1\" class=\"dataframe\">\n",
       "  <thead>\n",
       "    <tr style=\"text-align: right;\">\n",
       "      <th></th>\n",
       "      <th>Number_of_purchase_types</th>\n",
       "      <th>REGISTRATION_COUNTRY</th>\n",
       "      <th>USER_ID_Count</th>\n",
       "    </tr>\n",
       "  </thead>\n",
       "  <tbody>\n",
       "    <tr>\n",
       "      <th>0</th>\n",
       "      <td>0</td>\n",
       "      <td>ARE</td>\n",
       "      <td>5</td>\n",
       "    </tr>\n",
       "    <tr>\n",
       "      <th>1</th>\n",
       "      <td>0</td>\n",
       "      <td>AUS</td>\n",
       "      <td>11</td>\n",
       "    </tr>\n",
       "    <tr>\n",
       "      <th>2</th>\n",
       "      <td>0</td>\n",
       "      <td>AUT</td>\n",
       "      <td>5</td>\n",
       "    </tr>\n",
       "    <tr>\n",
       "      <th>3</th>\n",
       "      <td>0</td>\n",
       "      <td>AZE</td>\n",
       "      <td>2</td>\n",
       "    </tr>\n",
       "    <tr>\n",
       "      <th>4</th>\n",
       "      <td>0</td>\n",
       "      <td>BEL</td>\n",
       "      <td>11</td>\n",
       "    </tr>\n",
       "    <tr>\n",
       "      <th>...</th>\n",
       "      <td>...</td>\n",
       "      <td>...</td>\n",
       "      <td>...</td>\n",
       "    </tr>\n",
       "    <tr>\n",
       "      <th>89</th>\n",
       "      <td>3</td>\n",
       "      <td>GBR</td>\n",
       "      <td>1</td>\n",
       "    </tr>\n",
       "    <tr>\n",
       "      <th>90</th>\n",
       "      <td>3</td>\n",
       "      <td>GRC</td>\n",
       "      <td>187</td>\n",
       "    </tr>\n",
       "    <tr>\n",
       "      <th>91</th>\n",
       "      <td>3</td>\n",
       "      <td>ISR</td>\n",
       "      <td>1</td>\n",
       "    </tr>\n",
       "    <tr>\n",
       "      <th>92</th>\n",
       "      <td>3</td>\n",
       "      <td>LVA</td>\n",
       "      <td>1</td>\n",
       "    </tr>\n",
       "    <tr>\n",
       "      <th>93</th>\n",
       "      <td>3</td>\n",
       "      <td>NOR</td>\n",
       "      <td>1</td>\n",
       "    </tr>\n",
       "  </tbody>\n",
       "</table>\n",
       "<p>94 rows × 3 columns</p>\n",
       "</div>"
      ],
      "text/plain": [
       "   Number_of_purchase_types REGISTRATION_COUNTRY  USER_ID_Count\n",
       "0                         0                  ARE              5\n",
       "1                         0                  AUS             11\n",
       "2                         0                  AUT              5\n",
       "3                         0                  AZE              2\n",
       "4                         0                  BEL             11\n",
       "..                      ...                  ...            ...\n",
       "89                        3                  GBR              1\n",
       "90                        3                  GRC            187\n",
       "91                        3                  ISR              1\n",
       "92                        3                  LVA              1\n",
       "93                        3                  NOR              1\n",
       "\n",
       "[94 rows x 3 columns]"
      ]
     },
     "execution_count": 64,
     "metadata": {},
     "output_type": "execute_result"
    }
   ],
   "source": [
    "# Exploring the Number_of_purchase_types per country to see if we could focus on or target a certain country\n",
    "REGISTRATION_COUNTRY = wolt_data_new.groupby(['Number_of_purchase_types', 'REGISTRATION_COUNTRY'],\n",
    "                                             as_index = False)['USER_ID'].count()\n",
    "\n",
    "# Renaming the columns\n",
    "REGISTRATION_COUNTRY.rename({'USER_ID': 'USER_ID_Count'}, axis = 1, inplace=True)\n",
    "\n",
    "# Changing the Number_of_purchase_types data type to string for better visualisation\n",
    "REGISTRATION_COUNTRY['Number_of_purchase_types'] = REGISTRATION_COUNTRY['Number_of_purchase_types'].astype(str)\n",
    "\n",
    "REGISTRATION_COUNTRY"
   ]
  },
  {
   "cell_type": "code",
   "execution_count": 65,
   "id": "60233870",
   "metadata": {},
   "outputs": [
    {
     "data": {
      "text/html": [
       "<div>\n",
       "<style scoped>\n",
       "    .dataframe tbody tr th:only-of-type {\n",
       "        vertical-align: middle;\n",
       "    }\n",
       "\n",
       "    .dataframe tbody tr th {\n",
       "        vertical-align: top;\n",
       "    }\n",
       "\n",
       "    .dataframe thead th {\n",
       "        text-align: right;\n",
       "    }\n",
       "</style>\n",
       "<table border=\"1\" class=\"dataframe\">\n",
       "  <thead>\n",
       "    <tr style=\"text-align: right;\">\n",
       "      <th></th>\n",
       "      <th>Number_of_purchase_types</th>\n",
       "      <th>REGISTRATION_COUNTRY</th>\n",
       "      <th>USER_ID_Count</th>\n",
       "    </tr>\n",
       "  </thead>\n",
       "  <tbody>\n",
       "    <tr>\n",
       "      <th>17</th>\n",
       "      <td>0</td>\n",
       "      <td>FIN</td>\n",
       "      <td>4826</td>\n",
       "    </tr>\n",
       "    <tr>\n",
       "      <th>66</th>\n",
       "      <td>1</td>\n",
       "      <td>FIN</td>\n",
       "      <td>3794</td>\n",
       "    </tr>\n",
       "    <tr>\n",
       "      <th>64</th>\n",
       "      <td>1</td>\n",
       "      <td>DNK</td>\n",
       "      <td>3608</td>\n",
       "    </tr>\n",
       "    <tr>\n",
       "      <th>14</th>\n",
       "      <td>0</td>\n",
       "      <td>DNK</td>\n",
       "      <td>3096</td>\n",
       "    </tr>\n",
       "    <tr>\n",
       "      <th>23</th>\n",
       "      <td>0</td>\n",
       "      <td>GRC</td>\n",
       "      <td>1510</td>\n",
       "    </tr>\n",
       "    <tr>\n",
       "      <th>69</th>\n",
       "      <td>1</td>\n",
       "      <td>GRC</td>\n",
       "      <td>1112</td>\n",
       "    </tr>\n",
       "    <tr>\n",
       "      <th>79</th>\n",
       "      <td>2</td>\n",
       "      <td>FIN</td>\n",
       "      <td>887</td>\n",
       "    </tr>\n",
       "    <tr>\n",
       "      <th>88</th>\n",
       "      <td>3</td>\n",
       "      <td>FIN</td>\n",
       "      <td>770</td>\n",
       "    </tr>\n",
       "    <tr>\n",
       "      <th>77</th>\n",
       "      <td>2</td>\n",
       "      <td>DNK</td>\n",
       "      <td>727</td>\n",
       "    </tr>\n",
       "    <tr>\n",
       "      <th>86</th>\n",
       "      <td>3</td>\n",
       "      <td>DNK</td>\n",
       "      <td>650</td>\n",
       "    </tr>\n",
       "    <tr>\n",
       "      <th>80</th>\n",
       "      <td>2</td>\n",
       "      <td>GRC</td>\n",
       "      <td>233</td>\n",
       "    </tr>\n",
       "    <tr>\n",
       "      <th>90</th>\n",
       "      <td>3</td>\n",
       "      <td>GRC</td>\n",
       "      <td>187</td>\n",
       "    </tr>\n",
       "    <tr>\n",
       "      <th>58</th>\n",
       "      <td>0</td>\n",
       "      <td>USA</td>\n",
       "      <td>70</td>\n",
       "    </tr>\n",
       "    <tr>\n",
       "      <th>20</th>\n",
       "      <td>0</td>\n",
       "      <td>GBR</td>\n",
       "      <td>52</td>\n",
       "    </tr>\n",
       "    <tr>\n",
       "      <th>54</th>\n",
       "      <td>0</td>\n",
       "      <td>SWE</td>\n",
       "      <td>41</td>\n",
       "    </tr>\n",
       "    <tr>\n",
       "      <th>13</th>\n",
       "      <td>0</td>\n",
       "      <td>DEU</td>\n",
       "      <td>38</td>\n",
       "    </tr>\n",
       "    <tr>\n",
       "      <th>16</th>\n",
       "      <td>0</td>\n",
       "      <td>EST</td>\n",
       "      <td>31</td>\n",
       "    </tr>\n",
       "    <tr>\n",
       "      <th>31</th>\n",
       "      <td>0</td>\n",
       "      <td>ITA</td>\n",
       "      <td>24</td>\n",
       "    </tr>\n",
       "    <tr>\n",
       "      <th>42</th>\n",
       "      <td>0</td>\n",
       "      <td>NOR</td>\n",
       "      <td>21</td>\n",
       "    </tr>\n",
       "    <tr>\n",
       "      <th>37</th>\n",
       "      <td>0</td>\n",
       "      <td>LTU</td>\n",
       "      <td>20</td>\n",
       "    </tr>\n",
       "  </tbody>\n",
       "</table>\n",
       "</div>"
      ],
      "text/plain": [
       "   Number_of_purchase_types REGISTRATION_COUNTRY  USER_ID_Count\n",
       "17                        0                  FIN           4826\n",
       "66                        1                  FIN           3794\n",
       "64                        1                  DNK           3608\n",
       "14                        0                  DNK           3096\n",
       "23                        0                  GRC           1510\n",
       "69                        1                  GRC           1112\n",
       "79                        2                  FIN            887\n",
       "88                        3                  FIN            770\n",
       "77                        2                  DNK            727\n",
       "86                        3                  DNK            650\n",
       "80                        2                  GRC            233\n",
       "90                        3                  GRC            187\n",
       "58                        0                  USA             70\n",
       "20                        0                  GBR             52\n",
       "54                        0                  SWE             41\n",
       "13                        0                  DEU             38\n",
       "16                        0                  EST             31\n",
       "31                        0                  ITA             24\n",
       "42                        0                  NOR             21\n",
       "37                        0                  LTU             20"
      ]
     },
     "execution_count": 65,
     "metadata": {},
     "output_type": "execute_result"
    }
   ],
   "source": [
    "top_20_users = REGISTRATION_COUNTRY.sort_values('USER_ID_Count', ascending=False).head(20)\n",
    "top_20_users"
   ]
  },
  {
   "cell_type": "code",
   "execution_count": 66,
   "id": "c8ffb8fa",
   "metadata": {},
   "outputs": [
    {
     "data": {
      "text/plain": [
       "Text(0.5, 1.0, 'Users that purchased from multiple stores per country and user counts')"
      ]
     },
     "execution_count": 66,
     "metadata": {},
     "output_type": "execute_result"
    },
    {
     "data": {
      "image/png": "[encoded data removed]",
      "text/plain": [
       "<Figure size 1440x720 with 1 Axes>"
      ]
     },
     "metadata": {},
     "output_type": "display_data"
    }
   ],
   "source": [
    "# Creating a bar chart that shows users who registered but never ordered anything\n",
    "store_type = sns.scatterplot(x=\"REGISTRATION_COUNTRY\", y = 'USER_ID_Count', hue ='Number_of_purchase_types',\n",
    "                         data= top_20_users)\n",
    "\n",
    "store_type.set_title('Users that purchased from multiple stores per country and user counts')"
   ]
  },
  {
   "cell_type": "markdown",
   "id": "ddf7e657",
   "metadata": {},
   "source": [
    "From the chart above we can see that most users who purchase from 1 store or more are in Finland and Denmark, perhaps most of the marketing and varieties offered only take place in Finland and Denmark. This is something that can be addressed for other countries, maybe use a similar strategy to that of Finland and Denmark."
   ]
  },
  {
   "cell_type": "code",
   "execution_count": null,
   "id": "20a7ba66",
   "metadata": {},
   "outputs": [],
   "source": []
  },
  {
   "cell_type": "code",
   "execution_count": null,
   "id": "fddbe2fd",
   "metadata": {},
   "outputs": [],
   "source": []
  },
  {
   "cell_type": "code",
   "execution_count": null,
   "id": "a587efbb",
   "metadata": {},
   "outputs": [],
   "source": []
  }
 ],
 "metadata": {
  "kernelspec": {
   "display_name": "Python 3 (ipykernel)",
   "language": "python",
   "name": "python3"
  },
  "language_info": {
   "codemirror_mode": {
    "name": "ipython",
    "version": 3
   },
   "file_extension": ".py",
   "mimetype": "text/x-python",
   "name": "python",
   "nbconvert_exporter": "python",
   "pygments_lexer": "ipython3",
   "version": "3.9.7"
  }
 },
 "nbformat": 4,
 "nbformat_minor": 5
}
